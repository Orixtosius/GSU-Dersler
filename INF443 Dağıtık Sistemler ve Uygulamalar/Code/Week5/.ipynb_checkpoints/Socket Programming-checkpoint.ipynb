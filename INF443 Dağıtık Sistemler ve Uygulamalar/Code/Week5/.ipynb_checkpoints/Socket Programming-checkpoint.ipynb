{
 "cells": [
  {
   "cell_type": "markdown",
   "metadata": {},
   "source": [
    "# Socket Programming in Python (Guide)\n",
    "Source: https://realpython.com/python-sockets/\n",
    "\n",
    "\n",
    "Sockets and the socket API are used to send messages across a network.\n",
    "> They provide a form of inter-process communication (IPC). \n",
    "\n",
    "port should be an integer from 1-65535 (0 is reserved). It’s the TCP port number to accept connections on from clients. Some systems may require superuser privileges if the port is < 1024.\n",
    "\n",
    "## Client -Server\n",
    "one side acts as the server and waits for connections from clients.\n",
    "\n",
    "\n",
    "### Python socket module\n",
    "\n",
    "> Networks are a best-effort delivery system. There’s no guarantee that your data will reach its destination\n",
    "\n",
    "https://docs.python.org/3/library/socket.html\n",
    "\n",
    "\n",
    " - `socket()`: create a socket\n",
    "  - specify the socket type as `socket.SOCK_STREAM` for `TCP` (relieable, in order)\n",
    "  - `socket.SOCK_DGRAM` is for `UDP` (not relieable, out of order, fast)\n",
    " - `bind()`\n",
    "  - bind() is used to associate the socket with a specific network interface and port number:\n",
    " - `listen()`\n",
    "  - It listens for connections from clients.\n",
    "  - listen() enables a server to accept() connections. It makes it a “listening” socket:\n",
    " - `accept()`\n",
    "  - When a client connects, the server calls accept()\n",
    "  - accept() blocks and waits for an incoming connection. \n",
    "  - When a client connects, it returns a new socket object representing the connection and a tuple holding the address of the client.\n",
    " - `connect()`\n",
    "  - The client calls connect() to establish a connection to the server\n",
    " - `connect_ex()`\n",
    " - `send()`\n",
    "  - exchange data\n",
    " - `recv()`\n",
    "  - exchange data\n",
    " - `close()`\n",
    "  - Client Server close() their respective sockets."
   ]
  },
  {
   "cell_type": "markdown",
   "metadata": {},
   "source": [
    "## TCP\n",
    "TCP relieves you from having to worry about packet loss\n",
    "\n",
    "![](https://files.realpython.com/media/sockets-tcp-flow.1da426797e37.jpg)"
   ]
  },
  {
   "cell_type": "markdown",
   "metadata": {},
   "source": [
    "## Server Code\n",
    "\n",
    "```\n",
    "import socket\n",
    "\n",
    "HOST = '127.0.0.1'  # Standard loopback interface address (localhost)\n",
    "PORT = 65432        # Port to listen on (non-privileged ports are > 1023)\n",
    "\n",
    "with socket.socket(socket.AF_INET, socket.SOCK_STREAM) as s:\n",
    "    # bind() is used to associate the socket with a specific network interface and port number:\n",
    "    s.bind((HOST, PORT))\n",
    "    s.listen()\n",
    "    conn, addr = s.accept()\n",
    "    with conn:\n",
    "        print('Connected by', addr)\n",
    "        while True:\n",
    "            data = conn.recv(1024)\n",
    "            if not data:\n",
    "                break\n",
    "            conn.sendall(data)\n",
    "```\n",
    "\n",
    "In comparison to the server, the client is pretty simple. It creates a socket object, connects to the server and calls s.sendall() to send its message. Lastly, it calls s.recv() to read the server’s reply and then prints it.\n",
    "\n",
    "## Client Code\n",
    "\n",
    "```\n",
    "#!/usr/bin/env python3\n",
    "\n",
    "import socket\n",
    "\n",
    "HOST = '127.0.0.1'  # The server's hostname or IP address\n",
    "PORT = 65432        # The port used by the server\n",
    "\n",
    "with socket.socket(socket.AF_INET, socket.SOCK_STREAM) as s:\n",
    "    s.connect((HOST, PORT))\n",
    "    s.sendall(b'Hello, world')\n",
    "    data = s.recv(1024)\n",
    "\n",
    "print('Received', repr(data))\n",
    "```\n",
    "\n",
    "![](https://files.realpython.com/media/sockets-loopback-interface.44fa30c53c70.jpg)\n",
    "\n",
    "\n",
    "## Communication Breakdown\n",
    "lsof -i -n\n",
    "\n",
    "> lsof gives you the COMMAND, PID (process id), and USER (user id) of open Internet sockets when used with the -i option."
   ]
  },
  {
   "cell_type": "markdown",
   "metadata": {},
   "source": [
    "# Handling Multiple Connections\n",
    "\n",
    "\n"
   ]
  },
  {
   "cell_type": "code",
   "execution_count": null,
   "metadata": {},
   "outputs": [],
   "source": []
  }
 ],
 "metadata": {
  "kernelspec": {
   "display_name": "Python 3",
   "language": "python",
   "name": "python3"
  },
  "language_info": {
   "codemirror_mode": {
    "name": "ipython",
    "version": 3
   },
   "file_extension": ".py",
   "mimetype": "text/x-python",
   "name": "python",
   "nbconvert_exporter": "python",
   "pygments_lexer": "ipython3",
   "version": "3.8.3"
  },
  "toc": {
   "base_numbering": 1,
   "nav_menu": {},
   "number_sections": true,
   "sideBar": true,
   "skip_h1_title": false,
   "title_cell": "Table of Contents",
   "title_sidebar": "Contents",
   "toc_cell": false,
   "toc_position": {},
   "toc_section_display": true,
   "toc_window_display": false
  },
  "varInspector": {
   "cols": {
    "lenName": 16,
    "lenType": 16,
    "lenVar": 40
   },
   "kernels_config": {
    "python": {
     "delete_cmd_postfix": "",
     "delete_cmd_prefix": "del ",
     "library": "var_list.py",
     "varRefreshCmd": "print(var_dic_list())"
    },
    "r": {
     "delete_cmd_postfix": ") ",
     "delete_cmd_prefix": "rm(",
     "library": "var_list.r",
     "varRefreshCmd": "cat(var_dic_list()) "
    }
   },
   "types_to_exclude": [
    "module",
    "function",
    "builtin_function_or_method",
    "instance",
    "_Feature"
   ],
   "window_display": false
  }
 },
 "nbformat": 4,
 "nbformat_minor": 4
}
