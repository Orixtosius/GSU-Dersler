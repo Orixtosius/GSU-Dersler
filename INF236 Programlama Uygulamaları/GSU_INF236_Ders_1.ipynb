{
  "nbformat": 4,
  "nbformat_minor": 0,
  "metadata": {
    "colab": {
      "name": "GSU INF236 Ders 1.ipynb",
      "provenance": []
    },
    "kernelspec": {
      "name": "python3",
      "display_name": "Python 3"
    },
    "language_info": {
      "name": "python"
    }
  },
  "cells": [
    {
      "cell_type": "markdown",
      "metadata": {
        "id": "xAq88ezZueOI"
      },
      "source": [
        "# INF236 Programlama Uygulamaları\n",
        "\n",
        "## Jupyter notebook/Python\n",
        "## programalama : OBEB\n",
        "## Algoritma: ikili arama (sıralı liste)\n",
        "## Doğal Dil İşleme: jaccard benzerliği\n",
        "## Olasılık: empirik şekilde pi’yi bulmak"
      ]
    },
    {
      "cell_type": "code",
      "metadata": {
        "colab": {
          "base_uri": "https://localhost:8080/"
        },
        "id": "0EgOQFifuHPF",
        "outputId": "181cffcd-a719-4630-a4f1-00766d1d9738"
      },
      "source": [
        "print('Hello World')"
      ],
      "execution_count": 1,
      "outputs": [
        {
          "output_type": "stream",
          "name": "stdout",
          "text": [
            "Hello World\n"
          ]
        }
      ]
    },
    {
      "cell_type": "code",
      "metadata": {
        "id": "q_cbr-pxwJVc"
      },
      "source": [
        "customer_IDs = [2,5,7,9,12,34,56,89]"
      ],
      "execution_count": 2,
      "outputs": []
    },
    {
      "cell_type": "code",
      "metadata": {
        "colab": {
          "base_uri": "https://localhost:8080/"
        },
        "id": "CH8bhVYXwfhj",
        "outputId": "b0211641-4f11-4bf1-8f1c-b148cd14bc5f"
      },
      "source": [
        "customer_IDs[0]"
      ],
      "execution_count": 8,
      "outputs": [
        {
          "output_type": "execute_result",
          "data": {
            "text/plain": [
              "2"
            ]
          },
          "metadata": {},
          "execution_count": 8
        }
      ]
    },
    {
      "cell_type": "code",
      "metadata": {
        "colab": {
          "base_uri": "https://localhost:8080/"
        },
        "id": "4uamPa9KwpG9",
        "outputId": "793e4ac1-b6ed-4509-d9fb-df90dceecab1"
      },
      "source": [
        "customer_IDs[-1]"
      ],
      "execution_count": 9,
      "outputs": [
        {
          "output_type": "execute_result",
          "data": {
            "text/plain": [
              "89"
            ]
          },
          "metadata": {},
          "execution_count": 9
        }
      ]
    },
    {
      "cell_type": "code",
      "metadata": {
        "colab": {
          "base_uri": "https://localhost:8080/"
        },
        "id": "LCTzZ3mfwx6r",
        "outputId": "6489bef6-3657-476e-bab1-185cf259e003"
      },
      "source": [
        "len(customer_IDs)"
      ],
      "execution_count": 10,
      "outputs": [
        {
          "output_type": "execute_result",
          "data": {
            "text/plain": [
              "8"
            ]
          },
          "metadata": {},
          "execution_count": 10
        }
      ]
    },
    {
      "cell_type": "code",
      "metadata": {
        "colab": {
          "base_uri": "https://localhost:8080/"
        },
        "id": "VspuZwFww1H7",
        "outputId": "b3ca2533-cd4d-4804-f22d-3f9b710d7632"
      },
      "source": [
        "# esitlik kontrolu \n",
        "customer_IDs[0] == 9"
      ],
      "execution_count": 12,
      "outputs": [
        {
          "output_type": "execute_result",
          "data": {
            "text/plain": [
              "False"
            ]
          },
          "metadata": {},
          "execution_count": 12
        }
      ]
    },
    {
      "cell_type": "code",
      "metadata": {
        "id": "yw_m14z-w8Vg"
      },
      "source": [
        "# atama islemi\n",
        "customer_IDs[0] = 9"
      ],
      "execution_count": 13,
      "outputs": []
    },
    {
      "cell_type": "code",
      "metadata": {
        "colab": {
          "base_uri": "https://localhost:8080/"
        },
        "id": "g4KaXMsaxMxf",
        "outputId": "c45133c5-490a-4868-a323-ab4fa2745a5c"
      },
      "source": [
        "customer_IDs"
      ],
      "execution_count": 14,
      "outputs": [
        {
          "output_type": "execute_result",
          "data": {
            "text/plain": [
              "[9, 5, 7, 9, 12, 34, 56, 89]"
            ]
          },
          "metadata": {},
          "execution_count": 14
        }
      ]
    },
    {
      "cell_type": "code",
      "metadata": {
        "id": "tB4HiUfQxNof"
      },
      "source": [
        "customer_IDs[0] = 1"
      ],
      "execution_count": 15,
      "outputs": []
    },
    {
      "cell_type": "code",
      "metadata": {
        "colab": {
          "base_uri": "https://localhost:8080/"
        },
        "id": "BeumMExmxWcv",
        "outputId": "7fd0abe7-a4e2-4935-e3d1-d3e31d25df52"
      },
      "source": [
        "customer_IDs"
      ],
      "execution_count": 16,
      "outputs": [
        {
          "output_type": "execute_result",
          "data": {
            "text/plain": [
              "[1, 5, 7, 9, 12, 34, 56, 89]"
            ]
          },
          "metadata": {},
          "execution_count": 16
        }
      ]
    },
    {
      "cell_type": "code",
      "metadata": {
        "colab": {
          "base_uri": "https://localhost:8080/"
        },
        "id": "dr5HQFnnxXL8",
        "outputId": "3bbd1b92-4ec4-43b6-eaae-e98c5463f77e"
      },
      "source": [
        "bas_indeks = 0\n",
        "son_indeks = len(customer_IDs)\n",
        "\n",
        "orta_indeks = bas_indeks + (son_indeks - bas_indeks)//2\n",
        "orta_indeks"
      ],
      "execution_count": 20,
      "outputs": [
        {
          "output_type": "execute_result",
          "data": {
            "text/plain": [
              "4"
            ]
          },
          "metadata": {},
          "execution_count": 20
        }
      ]
    },
    {
      "cell_type": "code",
      "metadata": {
        "colab": {
          "base_uri": "https://localhost:8080/"
        },
        "id": "dRdgzJtVyJIi",
        "outputId": "60e5cd7f-aa11-4db9-bc10-d87c4361a419"
      },
      "source": [
        "son_indeks"
      ],
      "execution_count": 21,
      "outputs": [
        {
          "output_type": "execute_result",
          "data": {
            "text/plain": [
              "8"
            ]
          },
          "metadata": {},
          "execution_count": 21
        }
      ]
    },
    {
      "cell_type": "code",
      "metadata": {
        "id": "vuENwckxyKq6"
      },
      "source": [
        "def ikili_arama(liste, k):\n",
        "  \"\"\"\n",
        "  Parametreler\n",
        "    - liste: arama yapilacak liste\n",
        "    - k: aranan (key)\n",
        "\n",
        "  Return\n",
        "   - k bulunduysa indeksi dondur\n",
        "   - k bulunmadiysa -1 dondur\n",
        "  \"\"\"\n",
        "\n",
        "  bas_indeks = 0\n",
        "  son_indeks = len(liste)\n",
        "\n",
        "  orta_indeks = bas_indeks + (son_indeks - bas_indeks)//2\n",
        "\n",
        "  if liste[orta_indeks] == k:\n",
        "    return orta_indeks\n",
        "  else:\n",
        "    return -1"
      ],
      "execution_count": 23,
      "outputs": []
    },
    {
      "cell_type": "code",
      "metadata": {
        "colab": {
          "base_uri": "https://localhost:8080/"
        },
        "id": "WeDn9I5W1vJz",
        "outputId": "eb7c1579-5bfb-409c-c4c9-1dd649bebc9e"
      },
      "source": [
        "ikili_arama(liste = customer_IDs, k = 12)"
      ],
      "execution_count": 24,
      "outputs": [
        {
          "output_type": "execute_result",
          "data": {
            "text/plain": [
              "4"
            ]
          },
          "metadata": {},
          "execution_count": 24
        }
      ]
    },
    {
      "cell_type": "code",
      "metadata": {
        "colab": {
          "base_uri": "https://localhost:8080/"
        },
        "id": "-iGfuhJT2e5a",
        "outputId": "36cb05db-b5f4-4c0c-bc6c-29ffa45c9518"
      },
      "source": [
        "ikili_arama(liste = customer_IDs, k = 11)"
      ],
      "execution_count": 25,
      "outputs": [
        {
          "output_type": "execute_result",
          "data": {
            "text/plain": [
              "-1"
            ]
          },
          "metadata": {},
          "execution_count": 25
        }
      ]
    },
    {
      "cell_type": "code",
      "metadata": {
        "id": "QBXlobkN2hbh"
      },
      "source": [
        "def ikili_arama(liste, k):\n",
        "  \"\"\"\n",
        "  Parametreler\n",
        "    - liste: arama yapilacak liste\n",
        "    - k: aranan (key)\n",
        "\n",
        "  Return\n",
        "   - k bulunduysa indeksi dondur\n",
        "   - k bulunmadiysa -1 dondur\n",
        "  \"\"\"\n",
        "  bas_indeks = 0\n",
        "  son_indeks = len(liste)-1\n",
        "  while bas_indeks <= son_indeks:\n",
        "    orta_indeks = bas_indeks + (1 + son_indeks - bas_indeks)//2\n",
        "    #print('bas_indeks', bas_indeks, 'bas eleman = ', liste[bas_indeks])\n",
        "    #print('orta_indeks', orta_indeks, 'orta eleman = ', liste[orta_indeks])\n",
        "    #print('son_indeks', son_indeks, 'son eleman = ', liste[son_indeks])\n",
        "    #print()\n",
        "    if liste[orta_indeks] == k:\n",
        "      return orta_indeks\n",
        "    elif liste[orta_indeks] < k:\n",
        "      bas_indeks = orta_indeks + 1\n",
        "    elif liste[orta_indeks] > k:\n",
        "      son_indeks = orta_indeks - 1\n",
        "  return -1"
      ],
      "execution_count": 49,
      "outputs": []
    },
    {
      "cell_type": "code",
      "metadata": {
        "colab": {
          "base_uri": "https://localhost:8080/"
        },
        "id": "qprJSOO23HWz",
        "outputId": "d132f501-64f7-4e18-aef8-463647d3549a"
      },
      "source": [
        "ikili_arama(liste = customer_IDs, k = 12)"
      ],
      "execution_count": 50,
      "outputs": [
        {
          "output_type": "stream",
          "name": "stdout",
          "text": [
            "bas_indeks 0 bas eleman =  1\n",
            "orta_indeks 4 orta eleman =  12\n",
            "son_indeks 7 son eleman =  89\n",
            "\n"
          ]
        },
        {
          "output_type": "execute_result",
          "data": {
            "text/plain": [
              "4"
            ]
          },
          "metadata": {},
          "execution_count": 50
        }
      ]
    },
    {
      "cell_type": "code",
      "metadata": {
        "colab": {
          "base_uri": "https://localhost:8080/"
        },
        "id": "XPRiA5ts3Ky4",
        "outputId": "7d178eb1-82ba-4528-c94c-2536420a37c7"
      },
      "source": [
        "ikili_arama(liste = customer_IDs, k = 7)"
      ],
      "execution_count": 51,
      "outputs": [
        {
          "output_type": "stream",
          "name": "stdout",
          "text": [
            "bas_indeks 0 bas eleman =  1\n",
            "orta_indeks 4 orta eleman =  12\n",
            "son_indeks 7 son eleman =  89\n",
            "\n",
            "bas_indeks 0 bas eleman =  1\n",
            "orta_indeks 2 orta eleman =  7\n",
            "son_indeks 3 son eleman =  9\n",
            "\n"
          ]
        },
        {
          "output_type": "execute_result",
          "data": {
            "text/plain": [
              "2"
            ]
          },
          "metadata": {},
          "execution_count": 51
        }
      ]
    },
    {
      "cell_type": "code",
      "metadata": {
        "colab": {
          "base_uri": "https://localhost:8080/"
        },
        "id": "1s_0k2Cj3iZi",
        "outputId": "dbb5f57f-e662-4461-8f10-eb02f633806a"
      },
      "source": [
        "ikili_arama(liste = customer_IDs, k = 89)"
      ],
      "execution_count": 52,
      "outputs": [
        {
          "output_type": "stream",
          "name": "stdout",
          "text": [
            "bas_indeks 0 bas eleman =  1\n",
            "orta_indeks 4 orta eleman =  12\n",
            "son_indeks 7 son eleman =  89\n",
            "\n",
            "bas_indeks 5 bas eleman =  34\n",
            "orta_indeks 6 orta eleman =  56\n",
            "son_indeks 7 son eleman =  89\n",
            "\n",
            "bas_indeks 7 bas eleman =  89\n",
            "orta_indeks 7 orta eleman =  89\n",
            "son_indeks 7 son eleman =  89\n",
            "\n"
          ]
        },
        {
          "output_type": "execute_result",
          "data": {
            "text/plain": [
              "7"
            ]
          },
          "metadata": {},
          "execution_count": 52
        }
      ]
    },
    {
      "cell_type": "markdown",
      "metadata": {
        "id": "ppbEPs0P_U_O"
      },
      "source": [
        "# Recursive  code"
      ]
    },
    {
      "cell_type": "code",
      "metadata": {
        "id": "41TZh7wI_YnU"
      },
      "source": [
        "def factorial(n):\n",
        "  # Temel Durum (Base Case)\n",
        "  if n ==1:\n",
        "    return 1\n",
        "  # Tekrar Eden Durum (Recursive Case)\n",
        "  else: \n",
        "    return n * factorial(n-1)"
      ],
      "execution_count": 72,
      "outputs": []
    },
    {
      "cell_type": "code",
      "metadata": {
        "colab": {
          "base_uri": "https://localhost:8080/"
        },
        "id": "EFPXaBch_hCS",
        "outputId": "e46120e6-c21e-429a-f100-710d20b2941d"
      },
      "source": [
        "factorial(n = 3)"
      ],
      "execution_count": 73,
      "outputs": [
        {
          "output_type": "execute_result",
          "data": {
            "text/plain": [
              "6"
            ]
          },
          "metadata": {},
          "execution_count": 73
        }
      ]
    },
    {
      "cell_type": "code",
      "metadata": {
        "id": "gBEVwfci4Mfq"
      },
      "source": [
        "def rec_ikili_arama(liste, bas_indeks, son_indeks, k):\n",
        "  \"\"\"\n",
        "  Parametreler\n",
        "    - liste: arama yapilacak liste\n",
        "    - k: aranan (key)\n",
        "    - bas_indeks, son_indeks: bas ve son eleman indeksleri\n",
        "\n",
        "  Return\n",
        "   - k bulunduysa indeksi dondur\n",
        "   - k bulunmadiysa -1 dondur\n",
        "  \"\"\"\n",
        "  orta_indeks = bas_indeks + (1 + son_indeks - bas_indeks)//2\n",
        "\n",
        "  # Temel Durum (Base Case)\n",
        "  if bas_indeks > son_indeks:\n",
        "    return -1\n",
        "  if liste[orta_indeks] == k:\n",
        "    return orta_indeks\n",
        "  # Tekrar Eden Durum (Recursive Case)\n",
        "  elif liste[orta_indeks] < k:\n",
        "    return rec_ikili_arama(liste, orta_indeks + 1, son_indeks, k)\n",
        "    # bas_indeks = orta_indeks + 1\n",
        "  elif liste[orta_indeks] > k:\n",
        "    return rec_ikili_arama(liste, bas_indeks, orta_indeks - 1, k)\n",
        "    # son_indeks = orta_indeks - 1\n",
        "\n",
        "  \n",
        "\n",
        "\n",
        "\n",
        "\n",
        "\n",
        "\n",
        "  "
      ],
      "execution_count": 59,
      "outputs": []
    },
    {
      "cell_type": "code",
      "metadata": {
        "colab": {
          "base_uri": "https://localhost:8080/"
        },
        "id": "I-tFmTK-5flZ",
        "outputId": "47a66217-f30d-4e72-81b1-24cf114b453d"
      },
      "source": [
        "rec_ikili_arama(liste = customer_IDs, \n",
        "                bas_indeks = 0, \n",
        "                son_indeks = len(customer_IDs)-1, \n",
        "                k = 12)"
      ],
      "execution_count": 60,
      "outputs": [
        {
          "output_type": "execute_result",
          "data": {
            "text/plain": [
              "4"
            ]
          },
          "metadata": {},
          "execution_count": 60
        }
      ]
    },
    {
      "cell_type": "code",
      "metadata": {
        "colab": {
          "base_uri": "https://localhost:8080/"
        },
        "id": "Aj0XUJWX5i8G",
        "outputId": "a89c2308-e482-44d1-84ff-42af40ca6a10"
      },
      "source": [
        "rec_ikili_arama(liste = customer_IDs, \n",
        "                bas_indeks = 0, \n",
        "                son_indeks = len(customer_IDs)-1, \n",
        "                k = 34)"
      ],
      "execution_count": 61,
      "outputs": [
        {
          "output_type": "execute_result",
          "data": {
            "text/plain": [
              "5"
            ]
          },
          "metadata": {},
          "execution_count": 61
        }
      ]
    },
    {
      "cell_type": "code",
      "metadata": {
        "colab": {
          "base_uri": "https://localhost:8080/"
        },
        "id": "sXPtpcdN503E",
        "outputId": "4e52e956-92cf-4ecd-e35d-bf94dd8a4a06"
      },
      "source": [
        "rec_ikili_arama(liste = customer_IDs, \n",
        "                bas_indeks = 0, \n",
        "                son_indeks = len(customer_IDs)-1, \n",
        "                k = 89)"
      ],
      "execution_count": 62,
      "outputs": [
        {
          "output_type": "execute_result",
          "data": {
            "text/plain": [
              "7"
            ]
          },
          "metadata": {},
          "execution_count": 62
        }
      ]
    },
    {
      "cell_type": "code",
      "metadata": {
        "colab": {
          "base_uri": "https://localhost:8080/"
        },
        "id": "KI7KqXct6CeG",
        "outputId": "886119ef-7392-401b-c35f-8317576fdd4b"
      },
      "source": [
        "rec_ikili_arama(liste = customer_IDs, \n",
        "                bas_indeks = 0, \n",
        "                son_indeks = len(customer_IDs)-1, \n",
        "                k = 11)"
      ],
      "execution_count": 63,
      "outputs": [
        {
          "output_type": "execute_result",
          "data": {
            "text/plain": [
              "-1"
            ]
          },
          "metadata": {},
          "execution_count": 63
        }
      ]
    },
    {
      "cell_type": "markdown",
      "metadata": {
        "id": "p9gg080d9lhm"
      },
      "source": [
        "# Denemeler"
      ]
    },
    {
      "cell_type": "code",
      "metadata": {
        "id": "Y7jpF7D46Dhh"
      },
      "source": [
        "customer_IDs = [2,3,4]"
      ],
      "execution_count": 64,
      "outputs": []
    },
    {
      "cell_type": "code",
      "metadata": {
        "colab": {
          "base_uri": "https://localhost:8080/"
        },
        "id": "E0YeAfQB9o2b",
        "outputId": "ce163947-124c-4004-8d0e-10988417ccab"
      },
      "source": [
        "rec_ikili_arama(liste = customer_IDs, \n",
        "                bas_indeks = 0, \n",
        "                son_indeks = len(customer_IDs)-1, \n",
        "                k = 2)"
      ],
      "execution_count": 65,
      "outputs": [
        {
          "output_type": "execute_result",
          "data": {
            "text/plain": [
              "0"
            ]
          },
          "metadata": {},
          "execution_count": 65
        }
      ]
    },
    {
      "cell_type": "code",
      "metadata": {
        "colab": {
          "base_uri": "https://localhost:8080/"
        },
        "id": "Whqx-UnD9rt1",
        "outputId": "f9cfcdfd-7b10-4221-f5ba-8d8610e664e7"
      },
      "source": [
        "rec_ikili_arama(liste = customer_IDs, \n",
        "                bas_indeks = 0, \n",
        "                son_indeks = len(customer_IDs)-1, \n",
        "                k = 4)"
      ],
      "execution_count": 66,
      "outputs": [
        {
          "output_type": "execute_result",
          "data": {
            "text/plain": [
              "2"
            ]
          },
          "metadata": {},
          "execution_count": 66
        }
      ]
    },
    {
      "cell_type": "code",
      "metadata": {
        "colab": {
          "base_uri": "https://localhost:8080/"
        },
        "id": "Jj9rnKNX9xaJ",
        "outputId": "804c21cf-60a1-4d01-fad2-971ba0c40782"
      },
      "source": [
        "rec_ikili_arama(liste = customer_IDs, \n",
        "                bas_indeks = 0, \n",
        "                son_indeks = len(customer_IDs)-1, \n",
        "                k = 5000)"
      ],
      "execution_count": 69,
      "outputs": [
        {
          "output_type": "execute_result",
          "data": {
            "text/plain": [
              "-1"
            ]
          },
          "metadata": {},
          "execution_count": 69
        }
      ]
    },
    {
      "cell_type": "code",
      "metadata": {
        "colab": {
          "base_uri": "https://localhost:8080/"
        },
        "id": "Z7G5z05S9z3p",
        "outputId": "61920fcf-df20-4749-d33e-9ee44399d19d"
      },
      "source": [
        "\n",
        "customer_IDs = [2,3,4]\n",
        "ikili_arama(liste = customer_IDs, k = 12)"
      ],
      "execution_count": 70,
      "outputs": [
        {
          "output_type": "stream",
          "name": "stdout",
          "text": [
            "bas_indeks 0 bas eleman =  2\n",
            "orta_indeks 1 orta eleman =  3\n",
            "son_indeks 2 son eleman =  4\n",
            "\n",
            "bas_indeks 2 bas eleman =  4\n",
            "orta_indeks 2 orta eleman =  4\n",
            "son_indeks 2 son eleman =  4\n",
            "\n"
          ]
        },
        {
          "output_type": "execute_result",
          "data": {
            "text/plain": [
              "-1"
            ]
          },
          "metadata": {},
          "execution_count": 70
        }
      ]
    },
    {
      "cell_type": "code",
      "metadata": {
        "colab": {
          "base_uri": "https://localhost:8080/"
        },
        "id": "vcYuC9SQ97XT",
        "outputId": "5b40bcf7-faed-4370-8a92-5475ea07f990"
      },
      "source": [
        "ikili_arama(liste = customer_IDs, k = 2)"
      ],
      "execution_count": 71,
      "outputs": [
        {
          "output_type": "stream",
          "name": "stdout",
          "text": [
            "bas_indeks 0 bas eleman =  2\n",
            "orta_indeks 1 orta eleman =  3\n",
            "son_indeks 2 son eleman =  4\n",
            "\n",
            "bas_indeks 0 bas eleman =  2\n",
            "orta_indeks 0 orta eleman =  2\n",
            "son_indeks 0 son eleman =  2\n",
            "\n"
          ]
        },
        {
          "output_type": "execute_result",
          "data": {
            "text/plain": [
              "0"
            ]
          },
          "metadata": {},
          "execution_count": 71
        }
      ]
    },
    {
      "cell_type": "code",
      "metadata": {
        "id": "47sLTuly99Kl"
      },
      "source": [
        ""
      ],
      "execution_count": null,
      "outputs": []
    }
  ]
}