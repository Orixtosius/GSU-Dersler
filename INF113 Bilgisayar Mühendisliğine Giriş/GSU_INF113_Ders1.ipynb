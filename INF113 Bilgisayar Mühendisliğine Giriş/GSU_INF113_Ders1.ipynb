{
  "nbformat": 4,
  "nbformat_minor": 0,
  "metadata": {
    "colab": {
      "name": "GSU INF113 Ders1.ipynb",
      "provenance": [],
      "collapsed_sections": []
    },
    "kernelspec": {
      "name": "python3",
      "display_name": "Python 3"
    },
    "language_info": {
      "name": "python"
    }
  },
  "cells": [
    {
      "cell_type": "markdown",
      "metadata": {
        "id": "AA4izQZ6KL3_"
      },
      "source": [
        "# Ders INF113\n",
        "\n",
        "Dersimize hos geldiniz\n",
        "\n",
        "## ilk fonksiyounumuz"
      ]
    },
    {
      "cell_type": "code",
      "metadata": {
        "id": "VfDhsppzFVcH"
      },
      "source": [
        "def f(C):\n",
        "  return C * 1.8 + 32"
      ],
      "execution_count": null,
      "outputs": []
    },
    {
      "cell_type": "code",
      "metadata": {
        "colab": {
          "base_uri": "https://localhost:8080/"
        },
        "id": "kZCh7erPFdY5",
        "outputId": "cc97e602-7955-4c3e-96be-ff5edff30b2a"
      },
      "source": [
        "f(32)"
      ],
      "execution_count": null,
      "outputs": [
        {
          "output_type": "execute_result",
          "data": {
            "text/plain": [
              "89.6"
            ]
          },
          "metadata": {},
          "execution_count": 2
        }
      ]
    },
    {
      "cell_type": "markdown",
      "metadata": {
        "id": "3pRJDuNkKmhh"
      },
      "source": [
        "## Donguler"
      ]
    },
    {
      "cell_type": "code",
      "metadata": {
        "colab": {
          "base_uri": "https://localhost:8080/"
        },
        "id": "dQLJLmtxHDAa",
        "outputId": "98f7ef93-a112-45a4-c2dd-636bc30c1997"
      },
      "source": [
        "i = 0\n",
        "while i < 7:\n",
        "  print('While ici', i) \n",
        "  i = i + 1\n",
        "print('\\nWhile disi')"
      ],
      "execution_count": null,
      "outputs": [
        {
          "output_type": "stream",
          "name": "stdout",
          "text": [
            "While ici 0\n",
            "While ici 1\n",
            "While ici 2\n",
            "While ici 3\n",
            "While ici 4\n",
            "While ici 5\n",
            "While ici 6\n",
            "\n",
            "While disi\n"
          ]
        }
      ]
    },
    {
      "cell_type": "markdown",
      "metadata": {
        "id": "KWfl7tsfKpoz"
      },
      "source": [
        "## Deger degistirme (SWAP)"
      ]
    },
    {
      "cell_type": "code",
      "metadata": {
        "colab": {
          "base_uri": "https://localhost:8080/"
        },
        "id": "p2HK7nr5IX-W",
        "outputId": "81dc5cd5-f3b5-4263-cf96-f5f876be00ff"
      },
      "source": [
        "M, N = N , M\n",
        "print(M, N)"
      ],
      "execution_count": null,
      "outputs": [
        {
          "output_type": "stream",
          "name": "stdout",
          "text": [
            "18 27\n"
          ]
        }
      ]
    },
    {
      "cell_type": "markdown",
      "metadata": {
        "id": "Zj6u0Hn1Ktuk"
      },
      "source": [
        "## Kalan operatoru (%)"
      ]
    },
    {
      "cell_type": "code",
      "metadata": {
        "colab": {
          "base_uri": "https://localhost:8080/"
        },
        "id": "W3hJ7aORIcRO",
        "outputId": "f7de4cdf-d304-4067-ec55-856d2ced9fc9"
      },
      "source": [
        "M, N = 27 , 18\n",
        "\n",
        "M % N"
      ],
      "execution_count": null,
      "outputs": [
        {
          "output_type": "execute_result",
          "data": {
            "text/plain": [
              "9"
            ]
          },
          "metadata": {},
          "execution_count": 16
        }
      ]
    },
    {
      "cell_type": "markdown",
      "metadata": {
        "id": "E1HiuhchLVd3"
      },
      "source": [
        "# Odev\n",
        "\n",
        "Oklid'in OBEB algorirtmasi"
      ]
    },
    {
      "cell_type": "code",
      "metadata": {
        "id": "MStiYNgtLV0j"
      },
      "source": [
        "def OBEB(M, N):\n",
        "  # adim 0: M buyuk deger olsun\n",
        "  # adim 1: M'yi N'ye bolun, Kalan R olsun\n",
        "  # adim 2: Eger R 0 degilse, \n",
        "  #.            M = N ve N = R olsun \n",
        "  #.            ve adim 1e don\n",
        "  #.        Eger R 0 ise, M'ye atanan degeri cevap olarak don\n",
        "  pass"
      ],
      "execution_count": null,
      "outputs": []
    },
    {
      "cell_type": "code",
      "metadata": {
        "id": "M9fUpZQBLXlZ"
      },
      "source": [
        "def OBEB(M,N):\n",
        "  while N != 0:\n",
        "    M, N = N, M%N\n",
        "  return M"
      ],
      "execution_count": null,
      "outputs": []
    },
    {
      "cell_type": "code",
      "metadata": {
        "colab": {
          "base_uri": "https://localhost:8080/"
        },
        "id": "J9-G2BOHL_8e",
        "outputId": "913fd861-8f90-41e3-f9ad-9e07cf1f4514"
      },
      "source": [
        "OBEB(18,27)"
      ],
      "execution_count": null,
      "outputs": [
        {
          "output_type": "execute_result",
          "data": {
            "text/plain": [
              "9"
            ]
          },
          "metadata": {},
          "execution_count": 29
        }
      ]
    },
    {
      "cell_type": "code",
      "metadata": {
        "colab": {
          "base_uri": "https://localhost:8080/"
        },
        "id": "aOZqx4NCMCmd",
        "outputId": "a81fa751-d0b1-4fb4-9493-3a3604544d56"
      },
      "source": [
        "OBEB(27,18)"
      ],
      "execution_count": null,
      "outputs": [
        {
          "output_type": "execute_result",
          "data": {
            "text/plain": [
              "9"
            ]
          },
          "metadata": {},
          "execution_count": 23
        }
      ]
    },
    {
      "cell_type": "code",
      "metadata": {
        "id": "UVdjw6DaMJet"
      },
      "source": [
        "def OBEB(M,N):\n",
        "  if M < N: return OBEB(N, M) # gerek yok\n",
        "  while N:\n",
        "    M, N = N, M%N\n",
        "  return M"
      ],
      "execution_count": null,
      "outputs": []
    },
    {
      "cell_type": "code",
      "metadata": {
        "colab": {
          "base_uri": "https://localhost:8080/"
        },
        "id": "hCqH3O7rMTcO",
        "outputId": "b58546d4-f7f9-4496-d615-b5d6b6eeb13e"
      },
      "source": [
        "OBEB(18,27)"
      ],
      "execution_count": null,
      "outputs": [
        {
          "output_type": "execute_result",
          "data": {
            "text/plain": [
              "9"
            ]
          },
          "metadata": {},
          "execution_count": 26
        }
      ]
    },
    {
      "cell_type": "code",
      "metadata": {
        "colab": {
          "base_uri": "https://localhost:8080/"
        },
        "id": "OISVYU3gMW2T",
        "outputId": "953b57b0-e5f4-4c59-f303-53b9271d40ba"
      },
      "source": [
        "OBEB(27,18)"
      ],
      "execution_count": null,
      "outputs": [
        {
          "output_type": "execute_result",
          "data": {
            "text/plain": [
              "9"
            ]
          },
          "metadata": {},
          "execution_count": 27
        }
      ]
    },
    {
      "cell_type": "code",
      "metadata": {
        "id": "dBWeEVMXMXzd"
      },
      "source": [
        "def OBEB(M,N):\n",
        "  \"\"\"\n",
        "  En kompakt kod\n",
        "  \"\"\"\n",
        "  while N:\n",
        "    M, N = N, M%N\n",
        "  return M"
      ],
      "execution_count": null,
      "outputs": []
    },
    {
      "cell_type": "markdown",
      "metadata": {
        "id": "az9SDONTLwwR"
      },
      "source": [
        "# DERS 2\n",
        "\n",
        " - 13 --> 1101"
      ]
    },
    {
      "cell_type": "code",
      "metadata": {
        "id": "9DYk5dwZbmG-"
      },
      "source": [
        "def ikili_gosterim(sayi):\n",
        "  pass"
      ],
      "execution_count": 1,
      "outputs": []
    },
    {
      "cell_type": "code",
      "metadata": {
        "colab": {
          "base_uri": "https://localhost:8080/"
        },
        "id": "5PBpgF6bL9hd",
        "outputId": "2872eeae-de62-4341-c8ba-80a83ca8deea"
      },
      "source": [
        "sayi = 13\n",
        "sayi % 2"
      ],
      "execution_count": 2,
      "outputs": [
        {
          "output_type": "execute_result",
          "data": {
            "text/plain": [
              "1"
            ]
          },
          "metadata": {},
          "execution_count": 2
        }
      ]
    },
    {
      "cell_type": "code",
      "metadata": {
        "colab": {
          "base_uri": "https://localhost:8080/"
        },
        "id": "d1ThlQIXMLJz",
        "outputId": "cea13b20-1a99-496c-9135-6769e1c2271f"
      },
      "source": [
        "sayi // 2"
      ],
      "execution_count": 4,
      "outputs": [
        {
          "output_type": "execute_result",
          "data": {
            "text/plain": [
              "6"
            ]
          },
          "metadata": {},
          "execution_count": 4
        }
      ]
    },
    {
      "cell_type": "code",
      "metadata": {
        "colab": {
          "base_uri": "https://localhost:8080/"
        },
        "id": "AgTuBfMcMRkh",
        "outputId": "b92c62ef-62fe-423e-a9a0-26d5a2497c8c"
      },
      "source": [
        "sayi = 13\n",
        "\n",
        "liste = []\n",
        "while sayi // 2 != 0:\n",
        "  kalan = sayi % 2\n",
        "  sayi = sayi // 2\n",
        "  liste.append(kalan)\n",
        "\n",
        "  print('kalan: ', kalan)\n",
        "  print()\n",
        "\n",
        "liste.append(sayi)"
      ],
      "execution_count": 11,
      "outputs": [
        {
          "output_type": "stream",
          "name": "stdout",
          "text": [
            "kalan:  1\n",
            "\n",
            "kalan:  0\n",
            "\n",
            "kalan:  1\n",
            "\n"
          ]
        }
      ]
    },
    {
      "cell_type": "code",
      "metadata": {
        "colab": {
          "base_uri": "https://localhost:8080/"
        },
        "id": "756E19P-MnDc",
        "outputId": "07d7d47c-9111-4b2c-b933-9c1c58b1726f"
      },
      "source": [
        "liste"
      ],
      "execution_count": 12,
      "outputs": [
        {
          "output_type": "execute_result",
          "data": {
            "text/plain": [
              "[1, 0, 1, 1]"
            ]
          },
          "metadata": {},
          "execution_count": 12
        }
      ]
    },
    {
      "cell_type": "code",
      "metadata": {
        "id": "YoD28YSANW6w"
      },
      "source": [
        "liste.reverse()"
      ],
      "execution_count": 13,
      "outputs": []
    },
    {
      "cell_type": "code",
      "metadata": {
        "colab": {
          "base_uri": "https://localhost:8080/"
        },
        "id": "P8HqhXipNfwe",
        "outputId": "f2a8034b-6510-4db6-d598-d1ea9ecef840"
      },
      "source": [
        "liste"
      ],
      "execution_count": 14,
      "outputs": [
        {
          "output_type": "execute_result",
          "data": {
            "text/plain": [
              "[1, 1, 0, 1]"
            ]
          },
          "metadata": {},
          "execution_count": 14
        }
      ]
    },
    {
      "cell_type": "code",
      "metadata": {
        "id": "Fl-3lojpNg10"
      },
      "source": [
        "def ikili_gosterim(sayi):\n",
        "  liste = []\n",
        "  while sayi // 2 != 0:\n",
        "    kalan = sayi % 2\n",
        "    sayi = sayi // 2\n",
        "    liste.append(kalan)\n",
        "    \n",
        "  liste.append(sayi)\n",
        "  liste.reverse()\n",
        "\n",
        "  return liste\n"
      ],
      "execution_count": 16,
      "outputs": []
    },
    {
      "cell_type": "code",
      "metadata": {
        "colab": {
          "base_uri": "https://localhost:8080/"
        },
        "id": "lgQnVx7iNq1V",
        "outputId": "363d3695-7d1a-4d43-d24e-a3d4f1a83261"
      },
      "source": [
        "ikili_gosterim(sayi = 8)"
      ],
      "execution_count": 17,
      "outputs": [
        {
          "output_type": "execute_result",
          "data": {
            "text/plain": [
              "[1, 0, 0, 0]"
            ]
          },
          "metadata": {},
          "execution_count": 17
        }
      ]
    },
    {
      "cell_type": "markdown",
      "metadata": {
        "id": "I6WPPex4ORhs"
      },
      "source": [
        "# Soru\n",
        "\n",
        "1 ile 1000 arasinda bir sayi tuttum.\n",
        "Aklimdaki sayiyi tahmin et. "
      ]
    },
    {
      "cell_type": "code",
      "metadata": {
        "id": "SJ0NEbGxNvPg"
      },
      "source": [
        "import random "
      ],
      "execution_count": 23,
      "outputs": []
    },
    {
      "cell_type": "code",
      "metadata": {
        "id": "7ayi5wvCO-g2"
      },
      "source": [
        "sayi = random.randint(1,1000)"
      ],
      "execution_count": 27,
      "outputs": []
    },
    {
      "cell_type": "code",
      "metadata": {
        "colab": {
          "base_uri": "https://localhost:8080/"
        },
        "id": "XXPWU-0UPUyB",
        "outputId": "609e8192-5e7b-4410-e055-4e85e9151114"
      },
      "source": [
        "sayi > 500"
      ],
      "execution_count": 28,
      "outputs": [
        {
          "output_type": "execute_result",
          "data": {
            "text/plain": [
              "True"
            ]
          },
          "metadata": {},
          "execution_count": 28
        }
      ]
    },
    {
      "cell_type": "code",
      "metadata": {
        "colab": {
          "base_uri": "https://localhost:8080/"
        },
        "id": "KjRDcaI-Rdtv",
        "outputId": "7ccee4f9-a483-4ef9-eaac-427d4012d859"
      },
      "source": [
        "sayi > 750"
      ],
      "execution_count": 29,
      "outputs": [
        {
          "output_type": "execute_result",
          "data": {
            "text/plain": [
              "True"
            ]
          },
          "metadata": {},
          "execution_count": 29
        }
      ]
    },
    {
      "cell_type": "code",
      "metadata": {
        "colab": {
          "base_uri": "https://localhost:8080/"
        },
        "id": "GDSk5fO3Rgan",
        "outputId": "59338a72-cc95-48aa-ce8f-c0a2b985c432"
      },
      "source": [
        "sayi > 875"
      ],
      "execution_count": 30,
      "outputs": [
        {
          "output_type": "execute_result",
          "data": {
            "text/plain": [
              "False"
            ]
          },
          "metadata": {},
          "execution_count": 30
        }
      ]
    },
    {
      "cell_type": "code",
      "metadata": {
        "colab": {
          "base_uri": "https://localhost:8080/"
        },
        "id": "p5xkKdgcRkNi",
        "outputId": "22315d1d-a9fe-4041-ddef-08086e3ccce3"
      },
      "source": [
        "sayi > 815"
      ],
      "execution_count": 31,
      "outputs": [
        {
          "output_type": "execute_result",
          "data": {
            "text/plain": [
              "True"
            ]
          },
          "metadata": {},
          "execution_count": 31
        }
      ]
    },
    {
      "cell_type": "code",
      "metadata": {
        "colab": {
          "base_uri": "https://localhost:8080/"
        },
        "id": "n76t-BNnRqUf",
        "outputId": "2fb24ac7-5993-4545-e153-2e494655df2b"
      },
      "source": [
        "sayi > 845"
      ],
      "execution_count": 32,
      "outputs": [
        {
          "output_type": "execute_result",
          "data": {
            "text/plain": [
              "False"
            ]
          },
          "metadata": {},
          "execution_count": 32
        }
      ]
    },
    {
      "cell_type": "code",
      "metadata": {
        "colab": {
          "base_uri": "https://localhost:8080/"
        },
        "id": "ceFmgqf5RtNT",
        "outputId": "e1967dcc-bd6b-4177-ba3b-6b50feecc691"
      },
      "source": [
        "sayi > 830"
      ],
      "execution_count": 34,
      "outputs": [
        {
          "output_type": "execute_result",
          "data": {
            "text/plain": [
              "False"
            ]
          },
          "metadata": {},
          "execution_count": 34
        }
      ]
    },
    {
      "cell_type": "code",
      "metadata": {
        "colab": {
          "base_uri": "https://localhost:8080/"
        },
        "id": "ptAmUngcRveU",
        "outputId": "fb8afc0e-a604-4629-a765-ef161d2e09fb"
      },
      "source": [
        "sayi > 822"
      ],
      "execution_count": 35,
      "outputs": [
        {
          "output_type": "execute_result",
          "data": {
            "text/plain": [
              "False"
            ]
          },
          "metadata": {},
          "execution_count": 35
        }
      ]
    },
    {
      "cell_type": "code",
      "metadata": {
        "colab": {
          "base_uri": "https://localhost:8080/"
        },
        "id": "W9GZBzhzR259",
        "outputId": "e04ebb16-b6ab-41fb-9cca-4b72266174d8"
      },
      "source": [
        "sayi > 818"
      ],
      "execution_count": 36,
      "outputs": [
        {
          "output_type": "execute_result",
          "data": {
            "text/plain": [
              "False"
            ]
          },
          "metadata": {},
          "execution_count": 36
        }
      ]
    },
    {
      "cell_type": "code",
      "metadata": {
        "colab": {
          "base_uri": "https://localhost:8080/"
        },
        "id": "QdxtPfyHR6yA",
        "outputId": "dd346d2a-def5-45ef-94a5-d061687580b8"
      },
      "source": [
        "sayi > 816"
      ],
      "execution_count": 37,
      "outputs": [
        {
          "output_type": "execute_result",
          "data": {
            "text/plain": [
              "True"
            ]
          },
          "metadata": {},
          "execution_count": 37
        }
      ]
    },
    {
      "cell_type": "code",
      "metadata": {
        "colab": {
          "base_uri": "https://localhost:8080/"
        },
        "id": "F4IOSTGdR-za",
        "outputId": "681b2ec0-12d9-4fc8-a919-179e4cba1c14"
      },
      "source": [
        "sayi == 817"
      ],
      "execution_count": 38,
      "outputs": [
        {
          "output_type": "execute_result",
          "data": {
            "text/plain": [
              "True"
            ]
          },
          "metadata": {},
          "execution_count": 38
        }
      ]
    },
    {
      "cell_type": "code",
      "metadata": {
        "id": "HPTn9AHXSGgR"
      },
      "source": [
        "sayi = random.randint(1,1000)\n",
        "\n",
        "def aklimdaki_sayiyi_bul(sayi, bas = 1, son = 1000):\n",
        "  tahmin = (bas + son)//2\n",
        "  print('Cok Gizli Sayi: ', sayi)\n",
        "  print()\n",
        "  \n",
        "  while tahmin != sayi:\n",
        "    tahmin = (bas + son)//2\n",
        "    print()\n",
        "    print('Bas=', bas, ' < Tahmin=', tahmin, ' < Son=', son)\n",
        "    if tahmin < sayi:\n",
        "      print('\\t Tahmin, gizli sayidan kucuk')\n",
        "      bas = tahmin\n",
        "    else:\n",
        "      print('\\t Tahmin, gizli sayidan buyuk')\n",
        "      son = tahmin\n",
        "  print('buldun')"
      ],
      "execution_count": 74,
      "outputs": []
    },
    {
      "cell_type": "code",
      "metadata": {
        "colab": {
          "base_uri": "https://localhost:8080/"
        },
        "id": "3q3wS8NpSSWh",
        "outputId": "26088b50-5c22-4898-8f8c-55f694a8bfc2"
      },
      "source": [
        "aklimdaki_sayiyi_bul(sayi, bas = 1, son = 1000)"
      ],
      "execution_count": 75,
      "outputs": [
        {
          "output_type": "stream",
          "name": "stdout",
          "text": [
            "Cok Gizli Sayi:  950\n",
            "\n",
            "\n",
            "Bas= 1  < Tahmin= 500  < Son= 1000\n",
            "\t Tahmin, gizli sayidan kucuk\n",
            "\n",
            "Bas= 500  < Tahmin= 750  < Son= 1000\n",
            "\t Tahmin, gizli sayidan kucuk\n",
            "\n",
            "Bas= 750  < Tahmin= 875  < Son= 1000\n",
            "\t Tahmin, gizli sayidan kucuk\n",
            "\n",
            "Bas= 875  < Tahmin= 937  < Son= 1000\n",
            "\t Tahmin, gizli sayidan kucuk\n",
            "\n",
            "Bas= 937  < Tahmin= 968  < Son= 1000\n",
            "\t Tahmin, gizli sayidan buyuk\n",
            "\n",
            "Bas= 937  < Tahmin= 952  < Son= 968\n",
            "\t Tahmin, gizli sayidan buyuk\n",
            "\n",
            "Bas= 937  < Tahmin= 944  < Son= 952\n",
            "\t Tahmin, gizli sayidan kucuk\n",
            "\n",
            "Bas= 944  < Tahmin= 948  < Son= 952\n",
            "\t Tahmin, gizli sayidan kucuk\n",
            "\n",
            "Bas= 948  < Tahmin= 950  < Son= 952\n",
            "\t Tahmin, gizli sayidan buyuk\n",
            "buldun\n"
          ]
        }
      ]
    },
    {
      "cell_type": "code",
      "metadata": {
        "colab": {
          "base_uri": "https://localhost:8080/"
        },
        "id": "9ddZ7FvuTlxj",
        "outputId": "20c21cd4-d0c3-4b70-87b2-83d6281b0a95"
      },
      "source": [
        "sayi = 87\n",
        "aklimdaki_sayiyi_bul(sayi, bas = 1, son = 1000)"
      ],
      "execution_count": 76,
      "outputs": [
        {
          "output_type": "stream",
          "name": "stdout",
          "text": [
            "Cok Gizli Sayi:  87\n",
            "\n",
            "\n",
            "Bas= 1  < Tahmin= 500  < Son= 1000\n",
            "\t Tahmin, gizli sayidan buyuk\n",
            "\n",
            "Bas= 1  < Tahmin= 250  < Son= 500\n",
            "\t Tahmin, gizli sayidan buyuk\n",
            "\n",
            "Bas= 1  < Tahmin= 125  < Son= 250\n",
            "\t Tahmin, gizli sayidan buyuk\n",
            "\n",
            "Bas= 1  < Tahmin= 63  < Son= 125\n",
            "\t Tahmin, gizli sayidan kucuk\n",
            "\n",
            "Bas= 63  < Tahmin= 94  < Son= 125\n",
            "\t Tahmin, gizli sayidan buyuk\n",
            "\n",
            "Bas= 63  < Tahmin= 78  < Son= 94\n",
            "\t Tahmin, gizli sayidan kucuk\n",
            "\n",
            "Bas= 78  < Tahmin= 86  < Son= 94\n",
            "\t Tahmin, gizli sayidan kucuk\n",
            "\n",
            "Bas= 86  < Tahmin= 90  < Son= 94\n",
            "\t Tahmin, gizli sayidan buyuk\n",
            "\n",
            "Bas= 86  < Tahmin= 88  < Son= 90\n",
            "\t Tahmin, gizli sayidan buyuk\n",
            "\n",
            "Bas= 86  < Tahmin= 87  < Son= 88\n",
            "\t Tahmin, gizli sayidan buyuk\n",
            "buldun\n"
          ]
        }
      ]
    },
    {
      "cell_type": "code",
      "metadata": {
        "id": "yTxasFpiVZYA"
      },
      "source": [
        ""
      ],
      "execution_count": null,
      "outputs": []
    }
  ]
}