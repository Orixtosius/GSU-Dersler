{
 "cells": [
  {
   "cell_type": "code",
   "execution_count": 5,
   "metadata": {},
   "outputs": [
    {
     "data": {
      "text/plain": [
       "(83, 99, 182)"
      ]
     },
     "execution_count": 5,
     "metadata": {},
     "output_type": "execute_result"
    }
   ],
   "source": [
    "import random\n",
    "a = random.randint(0, 100)\n",
    "b = random.randint(0, 100)\n",
    "a, b, a + b"
   ]
  },
  {
   "cell_type": "code",
   "execution_count": 16,
   "metadata": {},
   "outputs": [
    {
     "name": "stdout",
     "output_type": "stream",
     "text": [
      "50 + 73 = ? >> 56\n",
      "Yanlis\n",
      "78 + 48 = ? >> 8\n",
      "Yanlis\n",
      "5 + 94 = ? >> 90\n",
      "Yanlis\n",
      "92 + 25 = ? >> 107\n",
      "Yanlis\n",
      "76 + 28 = ? >> y\n",
      "Sayi giriniz ya da cikmak icin q harfi giriniz\n",
      "96 + 10 = ? >> u\n",
      "Sayi giriniz ya da cikmak icin q harfi giriniz\n",
      "97 + 63 = ? >> q\n"
     ]
    }
   ],
   "source": [
    "while True:\n",
    "    a = random.randint(0, 100)\n",
    "    b = random.randint(0, 100)\n",
    "    cvp = input(f'{a} + {b} = ? >> ')\n",
    "    \n",
    "    try:\n",
    "        if cvp == 'q':\n",
    "            break\n",
    "        elif int(cvp) == a + b:\n",
    "            print('Dogru')\n",
    "        else:\n",
    "            print('Yanlis')\n",
    "    except:\n",
    "        print('Sayi giriniz ya da cikmak icin q harfi giriniz')"
   ]
  },
  {
   "cell_type": "markdown",
   "metadata": {},
   "source": [
    "## Adam Asmaca"
   ]
  },
  {
   "cell_type": "code",
   "execution_count": 18,
   "metadata": {},
   "outputs": [],
   "source": [
    "kelime = 'baba'\n",
    "\n",
    "# 10 hakki var\n",
    "# harf al\n",
    "#   harf var mi kontrol et \n",
    "# kelime tahmini"
   ]
  },
  {
   "cell_type": "code",
   "execution_count": 19,
   "metadata": {},
   "outputs": [
    {
     "data": {
      "text/plain": [
       "True"
      ]
     },
     "execution_count": 19,
     "metadata": {},
     "output_type": "execute_result"
    }
   ],
   "source": [
    "'b' in kelime"
   ]
  },
  {
   "cell_type": "code",
   "execution_count": 20,
   "metadata": {},
   "outputs": [
    {
     "data": {
      "text/plain": [
       "'b'"
      ]
     },
     "execution_count": 20,
     "metadata": {},
     "output_type": "execute_result"
    }
   ],
   "source": [
    "kelime[0]"
   ]
  },
  {
   "cell_type": "code",
   "execution_count": 21,
   "metadata": {},
   "outputs": [
    {
     "data": {
      "text/plain": [
       "4"
      ]
     },
     "execution_count": 21,
     "metadata": {},
     "output_type": "execute_result"
    }
   ],
   "source": [
    "len(kelime)"
   ]
  },
  {
   "cell_type": "code",
   "execution_count": 22,
   "metadata": {},
   "outputs": [
    {
     "name": "stdout",
     "output_type": "stream",
     "text": [
      "0\n",
      "1\n",
      "2\n",
      "3\n"
     ]
    }
   ],
   "source": [
    "for i in range(4):\n",
    "    print(i)"
   ]
  },
  {
   "cell_type": "code",
   "execution_count": 23,
   "metadata": {},
   "outputs": [
    {
     "name": "stdout",
     "output_type": "stream",
     "text": [
      "0 b\n",
      "1 a\n",
      "2 b\n",
      "3 a\n"
     ]
    }
   ],
   "source": [
    "n = len(kelime)\n",
    "for i in range(n):\n",
    "    print(i, kelime[i])"
   ]
  },
  {
   "cell_type": "code",
   "execution_count": 30,
   "metadata": {},
   "outputs": [
    {
     "name": "stdout",
     "output_type": "stream",
     "text": [
      "['b', '*', 'b', '*']\n"
     ]
    }
   ],
   "source": [
    "harf = 'b'\n",
    "n = len(kelime)\n",
    "gosterim = ['*'] * n\n",
    "for i in range(n):\n",
    "    if kelime[i] == harf:\n",
    "        gosterim[i] = kelime[i]\n",
    "print(gosterim)"
   ]
  },
  {
   "cell_type": "code",
   "execution_count": 31,
   "metadata": {},
   "outputs": [
    {
     "data": {
      "text/plain": [
       "['b', '*', 'b', '*']"
      ]
     },
     "execution_count": 31,
     "metadata": {},
     "output_type": "execute_result"
    }
   ],
   "source": [
    "gosterim"
   ]
  },
  {
   "cell_type": "code",
   "execution_count": 32,
   "metadata": {},
   "outputs": [
    {
     "data": {
      "text/plain": [
       "'b*b*'"
      ]
     },
     "execution_count": 32,
     "metadata": {},
     "output_type": "execute_result"
    }
   ],
   "source": [
    "''.join(gosterim)"
   ]
  },
  {
   "cell_type": "code",
   "execution_count": 33,
   "metadata": {},
   "outputs": [
    {
     "name": "stdout",
     "output_type": "stream",
     "text": [
      "harf >> a\n",
      "['*', 'a', '*', 'a']\n"
     ]
    }
   ],
   "source": [
    "harf = input('harf >> ')\n",
    "n = len(kelime)\n",
    "gosterim = ['*'] * n\n",
    "for i in range(n):\n",
    "    if kelime[i] == harf:\n",
    "        gosterim[i] = kelime[i]\n",
    "print(gosterim)"
   ]
  },
  {
   "cell_type": "code",
   "execution_count": 34,
   "metadata": {},
   "outputs": [],
   "source": [
    "def tek_harf_gir(kelime, ):\n",
    "    harf = input('harf >> ')\n",
    "    n = len(kelime)\n",
    "    gosterim = ['*'] * n\n",
    "    for i in range(n):\n",
    "        if kelime[i] == harf:\n",
    "            gosterim[i] = kelime[i]\n",
    "    return gosterim"
   ]
  },
  {
   "cell_type": "code",
   "execution_count": 35,
   "metadata": {},
   "outputs": [
    {
     "name": "stdout",
     "output_type": "stream",
     "text": [
      "harf >> a\n"
     ]
    },
    {
     "data": {
      "text/plain": [
       "['*', 'a', '*', 'a']"
      ]
     },
     "execution_count": 35,
     "metadata": {},
     "output_type": "execute_result"
    }
   ],
   "source": [
    "tek_harf_gir(kelime,)"
   ]
  },
  {
   "cell_type": "code",
   "execution_count": 36,
   "metadata": {},
   "outputs": [
    {
     "name": "stdout",
     "output_type": "stream",
     "text": [
      "harf >> b\n"
     ]
    },
    {
     "data": {
      "text/plain": [
       "['b', '*', 'b', '*']"
      ]
     },
     "execution_count": 36,
     "metadata": {},
     "output_type": "execute_result"
    }
   ],
   "source": [
    "tek_harf_gir(kelime)"
   ]
  },
  {
   "cell_type": "code",
   "execution_count": 37,
   "metadata": {},
   "outputs": [],
   "source": [
    "def tek_harf_gir(kelime, gosterim):\n",
    "    harf = input('harf >> ')\n",
    "    n = len(kelime)\n",
    "    for i in range(n):\n",
    "        if kelime[i] == harf:\n",
    "            gosterim[i] = kelime[i]\n",
    "    return gosterim"
   ]
  },
  {
   "cell_type": "code",
   "execution_count": 38,
   "metadata": {},
   "outputs": [
    {
     "name": "stdout",
     "output_type": "stream",
     "text": [
      "harf >> a\n"
     ]
    },
    {
     "data": {
      "text/plain": [
       "['*', 'a', '*', 'a']"
      ]
     },
     "execution_count": 38,
     "metadata": {},
     "output_type": "execute_result"
    }
   ],
   "source": [
    "kelime = 'baba'\n",
    "n = len(kelime)\n",
    "gosterim = ['*'] * n\n",
    "\n",
    "gosterim = tek_harf_gir(kelime, gosterim)\n",
    "gosterim"
   ]
  },
  {
   "cell_type": "code",
   "execution_count": 39,
   "metadata": {},
   "outputs": [
    {
     "name": "stdout",
     "output_type": "stream",
     "text": [
      "harf >> b\n"
     ]
    },
    {
     "data": {
      "text/plain": [
       "['b', 'a', 'b', 'a']"
      ]
     },
     "execution_count": 39,
     "metadata": {},
     "output_type": "execute_result"
    }
   ],
   "source": [
    "gosterim = tek_harf_gir(kelime, gosterim)\n",
    "gosterim"
   ]
  },
  {
   "cell_type": "code",
   "execution_count": 44,
   "metadata": {},
   "outputs": [],
   "source": [
    "def tek_harf_gir(kelime, gosterim):\n",
    "    harf = input('harf >> ')\n",
    "    n = len(kelime)\n",
    "    for i in range(n):\n",
    "        if kelime[i] == harf:\n",
    "            gosterim[i] = kelime[i]\n",
    "    return gosterim\n",
    "\n",
    "def adam_asmaca(kelime):\n",
    "    n = len(kelime)\n",
    "    gosterim = ['*'] * n\n",
    "    \n",
    "    for i in range(n):\n",
    "        gosterim = tek_harf_gir(kelime, gosterim)\n",
    "        print(gosterim)\n",
    "        if ''.join(gosterim) == kelime:\n",
    "            print('Bildiniz')\n",
    "            return\n",
    "    print('Bilemediniz')"
   ]
  },
  {
   "cell_type": "code",
   "execution_count": 45,
   "metadata": {},
   "outputs": [
    {
     "name": "stdout",
     "output_type": "stream",
     "text": [
      "harf >> f\n",
      "['*', '*', '*', '*']\n",
      "harf >> g\n",
      "['*', '*', '*', '*']\n",
      "harf >> d\n",
      "['*', 'd', '*', '*']\n",
      "harf >> a\n",
      "['a', 'd', 'a', '*']\n",
      "Bilemediniz\n"
     ]
    }
   ],
   "source": [
    "adam_asmaca(kelime = 'adam')"
   ]
  },
  {
   "cell_type": "code",
   "execution_count": null,
   "metadata": {},
   "outputs": [],
   "source": []
  }
 ],
 "metadata": {
  "kernelspec": {
   "display_name": "Python 3",
   "language": "python",
   "name": "python3"
  },
  "language_info": {
   "codemirror_mode": {
    "name": "ipython",
    "version": 3
   },
   "file_extension": ".py",
   "mimetype": "text/x-python",
   "name": "python",
   "nbconvert_exporter": "python",
   "pygments_lexer": "ipython3",
   "version": "3.8.3"
  },
  "toc": {
   "base_numbering": 1,
   "nav_menu": {},
   "number_sections": true,
   "sideBar": true,
   "skip_h1_title": false,
   "title_cell": "Table of Contents",
   "title_sidebar": "Contents",
   "toc_cell": false,
   "toc_position": {},
   "toc_section_display": true,
   "toc_window_display": false
  },
  "varInspector": {
   "cols": {
    "lenName": 16,
    "lenType": 16,
    "lenVar": 40
   },
   "kernels_config": {
    "python": {
     "delete_cmd_postfix": "",
     "delete_cmd_prefix": "del ",
     "library": "var_list.py",
     "varRefreshCmd": "print(var_dic_list())"
    },
    "r": {
     "delete_cmd_postfix": ") ",
     "delete_cmd_prefix": "rm(",
     "library": "var_list.r",
     "varRefreshCmd": "cat(var_dic_list()) "
    }
   },
   "types_to_exclude": [
    "module",
    "function",
    "builtin_function_or_method",
    "instance",
    "_Feature"
   ],
   "window_display": false
  }
 },
 "nbformat": 4,
 "nbformat_minor": 4
}
